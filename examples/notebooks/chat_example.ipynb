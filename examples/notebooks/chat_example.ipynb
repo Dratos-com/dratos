{
 "cells": [
  {
   "cell_type": "code",
   "execution_count": 1,
   "metadata": {},
   "outputs": [],
   "source": [
    "import sys\n",
    "import os\n",
    "from IPython.display import display, Markdown\n"
   ]
  },
  {
   "cell_type": "code",
   "execution_count": null,
   "metadata": {},
   "outputs": [
    {
     "name": "stderr",
     "output_type": "stream",
     "text": [
      "/Users/rah/miniconda3/envs/swarm/lib/python3.11/site-packages/pydantic/_internal/_fields.py:201: UserWarning: Field name \"type\" in \"Tool\" shadows an attribute in parent \"DomainObject\"\n",
      "  warnings.warn(\n",
      "/Users/rah/miniconda3/envs/swarm/lib/python3.11/site-packages/pydantic/_internal/_fields.py:161: UserWarning: Field \"model_name\" has conflict with protected namespace \"model_\".\n",
      "\n",
      "You may be able to resolve this warning by setting `model_config['protected_namespaces'] = ()`.\n",
      "  warnings.warn(\n"
     ]
    },
    {
     "name": "stdout",
     "output_type": "stream",
     "text": [
      "The question of the meaning of life is one that has been pondered by philosophers, theologians, scientists, and thinkers throughout human history. There is no single, definitive answer, as the meaning of life can be interpreted in many different ways depending on one's perspective, beliefs, and experiences. Here are a few philosophical viewpoints to consider:\n",
      "\n",
      "1. **Existentialism**: Existentialists, such as Jean-Paul Sartre and Albert Camus, argue that life inherently has no meaning, and it is up to each individual to create their own meaning through their choices and actions. This perspective emphasizes personal responsibility and the freedom to define one's own purpose.\n",
      "\n",
      "2. **Nihilism**: Nihilism takes a more pessimistic view, suggesting that life is meaningless and that there is no inherent value or purpose in existence. Friedrich Nietzsche explored this idea, though he also proposed the concept of the \"Übermensch\" (Overman), who creates their own values in the face of a meaningless world.\n",
      "\n",
      "3. **Theism**: Many religious traditions propose that the meaning of life is given by a higher power or divine being. For example, in Christianity, the purpose of life is often seen as serving and glorifying God, living a life in accordance with His will, and preparing for an eternal existence in the afterlife.\n",
      "\n",
      "4. **Humanism**: Humanists believe that meaning is derived from human experiences and relationships. They emphasize the importance of human values, creativity, and the pursuit of knowledge and happiness. The focus is on improving the human condition and finding fulfillment through personal and collective achievements.\n",
      "\n",
      "5. **Buddhism**: In Buddhism, the meaning of life is connected to the pursuit of enlightenment and the alleviation of suffering. This involves following the Noble Eightfold Path, understanding the nature of reality, and achieving a state of Nirvana, where one is free from the cycle of birth, death, and rebirth.\n",
      "\n",
      "6. **Utilitarianism**: From a utilitarian perspective, the meaning of life might be to maximize happiness and reduce suffering for the greatest number of people. This ethical framework, associated with philosophers like Jeremy Bentham and John Stuart Mill, focuses on the consequences of actions and their impact on overall well-being.\n",
      "\n",
      "Ultimately, the meaning of life is a deeply personal and subjective question. It may be influenced by one's cultural background, personal experiences, and philosophical inclinations. Many find that their understanding of life's meaning evolves over time as they grow and encounter new experiences. In seeking an answer, one might find value in exploring various perspectives and reflecting on what resonates most deeply with their own sense of purpose and existence."
     ]
    },
    {
     "data": {
      "text/markdown": [
       "The question of the meaning of life is one that has been pondered by philosophers, theologians, scientists, and thinkers throughout human history. There is no single, definitive answer, as the meaning of life can be interpreted in many different ways depending on one's perspective, beliefs, and experiences. Here are a few philosophical viewpoints to consider:\n",
       "\n",
       "1. **Existentialism**: Existentialists, such as Jean-Paul Sartre and Albert Camus, argue that life inherently has no meaning, and it is up to each individual to create their own meaning through their choices and actions. This perspective emphasizes personal responsibility and the freedom to define one's own purpose.\n",
       "\n",
       "2. **Nihilism**: Nihilism takes a more pessimistic view, suggesting that life is meaningless and that there is no inherent value or purpose in existence. Friedrich Nietzsche explored this idea, though he also proposed the concept of the \"Übermensch\" (Overman), who creates their own values in the face of a meaningless world.\n",
       "\n",
       "3. **Theism**: Many religious traditions propose that the meaning of life is given by a higher power or divine being. For example, in Christianity, the purpose of life is often seen as serving and glorifying God, living a life in accordance with His will, and preparing for an eternal existence in the afterlife.\n",
       "\n",
       "4. **Humanism**: Humanists believe that meaning is derived from human experiences and relationships. They emphasize the importance of human values, creativity, and the pursuit of knowledge and happiness. The focus is on improving the human condition and finding fulfillment through personal and collective achievements.\n",
       "\n",
       "5. **Buddhism**: In Buddhism, the meaning of life is connected to the pursuit of enlightenment and the alleviation of suffering. This involves following the Noble Eightfold Path, understanding the nature of reality, and achieving a state of Nirvana, where one is free from the cycle of birth, death, and rebirth.\n",
       "\n",
       "6. **Utilitarianism**: From a utilitarian perspective, the meaning of life might be to maximize happiness and reduce suffering for the greatest number of people. This ethical framework, associated with philosophers like Jeremy Bentham and John Stuart Mill, focuses on the consequences of actions and their impact on overall well-being.\n",
       "\n",
       "Ultimately, the meaning of life is a deeply personal and subjective question. It may be influenced by one's cultural background, personal experiences, and philosophical inclinations. Many find that their understanding of life's meaning evolves over time as they grow and encounter new experiences. In seeking an answer, one might find value in exploring various perspectives and reflecting on what resonates most deeply with their own sense of purpose and existence."
      ],
      "text/plain": [
       "<IPython.core.display.Markdown object>"
      ]
     },
     "metadata": {},
     "output_type": "display_data"
    }
   ],
   "source": [
    " \n",
    "\n",
    "# Load Environment Variables and\n",
    "config = Config(streaming=True) \n",
    "\n",
    "\n",
    "completion_settings = Models.CompletionSettings(\n",
    "    temperature=0.5,\n",
    "    max_tokens=4096,\n",
    "    top_p=1,\n",
    "    frequency_penalty=0,\n",
    "    presence_penalty=0,\n",
    ")\n",
    "# Defaults to OpenRouter#\n",
    "gemini_free = Models.LLM(\n",
    "    model_name=\"google/gemini-pro-1.5-flash-1234exp-foo\",\n",
    "    completion_settings=completion_settings\n",
    ")\n",
    "\n",
    "# Explicit Engine Specification\n",
    "gemini_free = Models.LLM(\n",
    "    model_name=\"google/gemini-pro-1.5-flash-1234exp-foo\",\n",
    "    engine=OpenRouterEngine(), # Expects OPENROUTER_API_KEY to be defined in .env\n",
    "    completion_settings=completion_settings\n",
    ")\n",
    "from winreg import ExpandEnvironmentStrings\n",
    "from beta.agents import Agent\n",
    "from beta.tools import CalculatorTool, DataframeTool\n",
    "from beta.data import Data\n",
    "\n",
    "earnings = Data.Projects.get(\"Earnings Q4 2024\")\n",
    "knowledge_graph = my_project.Graphs.get(\"latest\")\n",
    "\n",
    "\n",
    "q1_agent = Agent(\n",
    "    llm=gemini_free,\n",
    "    tools=[CalculatorTool, DataframeTool],\n",
    "    context=[earnings],\n",
    "    memory={'short':[knowl]},\n",
    "    planning=\n",
    "    rethinking=\n",
    "\n",
    ")\n",
    "\n",
    "\n",
    "@prompt\n",
    "def my_prompt(question):\n",
    "    \"\"\"{{ question}}\"\"\"\n",
    "\n",
    "\n",
    "\n",
    "@prompt\n",
    "def cot(my_prompt,max_steps):\n",
    "    \"\"\"\n",
    "    System: \n",
    "        Using Chain of Thought:\n",
    "        max_steps = {{max_steps}}\n",
    "\n",
    "        for step in max_steps:\n",
    "            Reason about the request and append, \"Therefore\"\n",
    "        \n",
    "        Make a concluding response \n",
    "\n",
    "    User:\n",
    "    {{ my_prompt }}\n",
    "    \"\"\"\n",
    "\n",
    "from pydantic import BaseModel, Field\n",
    "from typing import List, Optional\n",
    "from datetime import date\n",
    "\n",
    "class QuarterlyEarnings(BaseModel):\n",
    "    \"\"\"\n",
    "    Represents quarterly earnings data for a company.\n",
    "    \"\"\"\n",
    "    company_name: str = Field(..., description=\"Name of the company\")\n",
    "    fiscal_quarter: int = Field(..., ge=1, le=4, description=\"Fiscal quarter (1-4)\")\n",
    "    fiscal_year: int = Field(..., description=\"Fiscal year\")\n",
    "    revenue: float = Field(..., description=\"Total revenue for the quarter\")\n",
    "    net_income: float = Field(..., description=\"Net income for the quarter\")\n",
    "    earnings_per_share: float = Field(..., description=\"Earnings per share\")\n",
    "    report_date: date = Field(..., description=\"Date of the earnings report\")\n",
    "    analyst_expectations_met: Optional[bool] = Field(None, description=\"Whether analyst expectations were met\")\n",
    "    key_highlights: Optional[List[str]] = Field(None, description=\"Key highlights from the earnings report\")\n",
    "\n",
    "\n",
    "response = await my_agent(\n",
    "    prompt=\n",
    "    response_model=[Address], \n",
    "        reponse_model_strict = False\n",
    ")\n",
    "\n"
   ]
  },
  {
   "cell_type": "markdown",
   "metadata": {},
   "source": []
  },
  {
   "cell_type": "code",
   "execution_count": null,
   "metadata": {},
   "outputs": [],
   "source": []
  }
 ],
 "metadata": {
  "kernelspec": {
   "display_name": "swarm",
   "language": "python",
   "name": "python3"
  },
  "language_info": {
   "codemirror_mode": {
    "name": "ipython",
    "version": 3
   },
   "file_extension": ".py",
   "mimetype": "text/x-python",
   "name": "python",
   "nbconvert_exporter": "python",
   "pygments_lexer": "ipython3",
   "version": "3.11.6"
  }
 },
 "nbformat": 4,
 "nbformat_minor": 2
}
