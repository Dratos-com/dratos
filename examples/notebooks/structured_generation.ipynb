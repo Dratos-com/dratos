{
 "cells": [
  {
   "cell_type": "code",
   "execution_count": null,
   "metadata": {},
   "outputs": [],
   "source": [
    "from beta import Agent"
   ]
  },
  {
   "cell_type": "code",
   "execution_count": null,
   "metadata": {},
   "outputs": [],
   "source": [
    "import ray\n",
    "from lance.ray.sink import LanceDatasink\n",
    "\n",
    "ray.init()\n",
    "\n",
    "sink = LanceDatasink(\"s3://bucket/to/data.lance\")\n",
    "ray.data.range(10).map(\n",
    "    lambda x: {\"id\": x[\"id\"], \"str\": f\"str-{x['id']}\"}\n",
    ").write_datasink(sink)"
   ]
  },
  {
   "cell_type": "code",
   "execution_count": null,
   "metadata": {},
   "outputs": [],
   "source": [
    "import vertexai\n",
    "\n",
    "from vertexai.generative_models import GenerativeModel, Part\n",
    "\n",
    "# TODO(developer): Update project_id and location\n",
    "vertexai.init(project=PROJECT_ID, location=\"us-central1\")\n",
    "\n",
    "# Load images from Cloud Storage URI\n",
    "image_file1 = Part.from_uri(\n",
    "    \"gs://cloud-samples-data/vertex-ai/llm/prompts/landmark1.png\",\n",
    "    mime_type=\"image/png\",\n",
    ")\n",
    "image_file2 = Part.from_uri(\n",
    "    \"gs://cloud-samples-data/vertex-ai/llm/prompts/landmark2.png\",\n",
    "    mime_type=\"image/png\",\n",
    ")\n",
    "image_file3 = Part.from_uri(\n",
    "    \"gs://cloud-samples-data/vertex-ai/llm/prompts/landmark3.png\",\n",
    "    mime_type=\"image/png\",\n",
    ")\n",
    "\n",
    "model = GenerativeModel(\"gemini-1.5-flash-001\")\n",
    "response = model.generate_content(\n",
    "    [\n",
    "        image_file1,\n",
    "        \"city: Rome, Landmark: the Colosseum\",\n",
    "        image_file2,\n",
    "        \"city: Beijing, Landmark: Forbidden City\",\n",
    "        image_file3,\n",
    "    ]\n",
    ")\n",
    "print(response.text)"
   ]
  }
 ],
 "metadata": {
  "language_info": {
   "name": "python"
  }
 },
 "nbformat": 4,
 "nbformat_minor": 2
}
